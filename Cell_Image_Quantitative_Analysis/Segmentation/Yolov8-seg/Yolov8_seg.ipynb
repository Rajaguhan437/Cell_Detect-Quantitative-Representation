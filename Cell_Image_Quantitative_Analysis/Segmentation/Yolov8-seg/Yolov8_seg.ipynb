{
  "nbformat": 4,
  "nbformat_minor": 0,
  "metadata": {
    "colab": {
      "provenance": [],
      "gpuType": "T4",
      "include_colab_link": true
    },
    "kernelspec": {
      "name": "python3",
      "display_name": "Python 3"
    },
    "language_info": {
      "name": "python"
    },
    "accelerator": "GPU"
  },
  "cells": [
    {
      "cell_type": "markdown",
      "metadata": {
        "id": "view-in-github",
        "colab_type": "text"
      },
      "source": [
        "<a href=\"https://colab.research.google.com/github/Rajaguhan437/Cell_Detect-Quantitative-Representation/blob/main/Cell_Image_Quantitative_Analysis/Segmentation/Yolov8-seg/Yolov8_seg.ipynb\" target=\"_parent\"><img src=\"https://colab.research.google.com/assets/colab-badge.svg\" alt=\"Open In Colab\"/></a>"
      ]
    },
    {
      "cell_type": "code",
      "source": [
        "from google.colab import drive\n",
        "drive.mount('/content/drive')"
      ],
      "metadata": {
        "colab": {
          "base_uri": "https://localhost:8080/"
        },
        "id": "J6Wzhv9i2gaZ",
        "outputId": "cab8a87f-a221-4d92-9070-b8ab74bbd6d1"
      },
      "execution_count": null,
      "outputs": [
        {
          "output_type": "stream",
          "name": "stdout",
          "text": [
            "Mounted at /content/drive\n"
          ]
        }
      ]
    },
    {
      "cell_type": "code",
      "source": [
        "!rm -rf  /content/drive/MyDrive/Ninti/ultralytics"
      ],
      "metadata": {
        "id": "1XJbMgwO6rJF"
      },
      "execution_count": null,
      "outputs": []
    },
    {
      "cell_type": "code",
      "execution_count": null,
      "metadata": {
        "colab": {
          "base_uri": "https://localhost:8080/"
        },
        "id": "q5Q4KmvVKCFk",
        "outputId": "ca90920e-4ce2-420b-de6d-3ca1ce15c826"
      },
      "outputs": [
        {
          "output_type": "stream",
          "name": "stderr",
          "text": [
            "Ultralytics YOLOv8.0.120 🚀 Python-3.10.12 torch-2.0.1+cu118 CUDA:0 (Tesla T4, 15102MiB)\n",
            "Setup complete ✅ (2 CPUs, 12.7 GB RAM, 24.1/78.2 GB disk)\n"
          ]
        }
      ],
      "source": [
        "# Pip install method (recommended)\n",
        "\n",
        "%cd /content/drive/MyDrive/Ninti/\n",
        "!git clone https://github.com/ultralytics/ultralytics.git\n",
        "\n",
        "%cd /content/drive/MyDrive/Ninti/ultralytics\n",
        "!pip install -e ultralytics\n",
        "!pip install ultralytics\n",
        "\n",
        "import ultralytics\n",
        "ultralytics.checks()\n"
      ]
    },
    {
      "cell_type": "code",
      "source": [
        "from ultralytics import YOLO\n",
        "\n",
        "from IPython.display import display, Image"
      ],
      "metadata": {
        "id": "SClG4ZzZKIOD"
      },
      "execution_count": null,
      "outputs": []
    },
    {
      "cell_type": "code",
      "source": [
        "shutil.copyfile('/content/drive/MyDrive/Ninti/yolov5/rbcdet.yaml', '/content/drive/MyDrive/Ninti/ultralytics/rbcdet.yaml')\n",
        "shutil.copyfile('/content/drive/MyDrive/Ninti/yolov5/rbcdet.yaml', '/content/drive/MyDrive/Ninti/ultralytics/ultralytics/rbcdet.yaml')"
      ],
      "metadata": {
        "id": "pIPkj_bFKcuJ"
      },
      "execution_count": null,
      "outputs": []
    },
    {
      "cell_type": "code",
      "source": [
        "!sed -i 's/nc: 80/nc: 3/g' /content/drive/MyDrive/Ninti/ultralytics/ultralytics/models/v8/yolov8-seg.yaml"
      ],
      "metadata": {
        "id": "w7C8l-4yKhlo"
      },
      "execution_count": null,
      "outputs": []
    },
    {
      "cell_type": "code",
      "source": [
        "!cat /content/drive/MyDrive/Ninti/ultralytics/ultralytics/models/v8/yolov8-seg.yaml"
      ],
      "metadata": {
        "colab": {
          "base_uri": "https://localhost:8080/"
        },
        "id": "6F4cYXKJKhjQ",
        "outputId": "075164d7-72dc-4db3-9b18-8aeec2fc52c3"
      },
      "execution_count": null,
      "outputs": [
        {
          "output_type": "stream",
          "name": "stdout",
          "text": [
            "# Ultralytics YOLO 🚀, AGPL-3.0 license\n",
            "# YOLOv8-seg instance segmentation model. For Usage examples see https://docs.ultralytics.com/tasks/segment\n",
            "\n",
            "# Parameters\n",
            "nc: 80  # number of classes\n",
            "scales: # model compound scaling constants, i.e. 'model=yolov8n-seg.yaml' will call yolov8-seg.yaml with scale 'n'\n",
            "  # [depth, width, max_channels]\n",
            "  n: [0.33, 0.25, 1024]\n",
            "  s: [0.33, 0.50, 1024]\n",
            "  m: [0.67, 0.75, 768]\n",
            "  l: [1.00, 1.00, 512]\n",
            "  x: [1.00, 1.25, 512]\n",
            "\n",
            "# YOLOv8.0n backbone\n",
            "backbone:\n",
            "  # [from, repeats, module, args]\n",
            "  - [-1, 1, Conv, [64, 3, 2]]  # 0-P1/2\n",
            "  - [-1, 1, Conv, [128, 3, 2]]  # 1-P2/4\n",
            "  - [-1, 3, C2f, [128, True]]\n",
            "  - [-1, 1, Conv, [256, 3, 2]]  # 3-P3/8\n",
            "  - [-1, 6, C2f, [256, True]]\n",
            "  - [-1, 1, Conv, [512, 3, 2]]  # 5-P4/16\n",
            "  - [-1, 6, C2f, [512, True]]\n",
            "  - [-1, 1, Conv, [1024, 3, 2]]  # 7-P5/32\n",
            "  - [-1, 3, C2f, [1024, True]]\n",
            "  - [-1, 1, SPPF, [1024, 5]]  # 9\n",
            "\n",
            "# YOLOv8.0n head\n",
            "head:\n",
            "  - [-1, 1, nn.Upsample, [None, 2, 'nearest']]\n",
            "  - [[-1, 6], 1, Concat, [1]]  # cat backbone P4\n",
            "  - [-1, 3, C2f, [512]]  # 12\n",
            "\n",
            "  - [-1, 1, nn.Upsample, [None, 2, 'nearest']]\n",
            "  - [[-1, 4], 1, Concat, [1]]  # cat backbone P3\n",
            "  - [-1, 3, C2f, [256]]  # 15 (P3/8-small)\n",
            "\n",
            "  - [-1, 1, Conv, [256, 3, 2]]\n",
            "  - [[-1, 12], 1, Concat, [1]]  # cat head P4\n",
            "  - [-1, 3, C2f, [512]]  # 18 (P4/16-medium)\n",
            "\n",
            "  - [-1, 1, Conv, [512, 3, 2]]\n",
            "  - [[-1, 9], 1, Concat, [1]]  # cat head P5\n",
            "  - [-1, 3, C2f, [1024]]  # 21 (P5/32-large)\n",
            "\n",
            "  - [[15, 18, 21], 1, Segment, [nc, 32, 256]]  # Segment(P3, P4, P5)\n"
          ]
        }
      ]
    },
    {
      "cell_type": "code",
      "source": [
        "!pip install roboflow\n",
        "\n",
        "%cd /content/drive/MyDrive/Ninti/\n",
        "\n",
        "from roboflow import Roboflow\n",
        "rf = Roboflow(api_key=\"AAWsL5ni1x5zdgHQKGlH\")\n",
        "project = rf.workspace(\"academie-militaire\").project(\"oussama\")\n",
        "dataset = project.version(5).download(\"yolov8\")\n"
      ],
      "metadata": {
        "colab": {
          "base_uri": "https://localhost:8080/",
          "height": 1000
        },
        "id": "qKdCljVIuQIj",
        "outputId": "09e0609b-ca54-45bc-a5bb-2f9121f5ceda"
      },
      "execution_count": null,
      "outputs": [
        {
          "output_type": "stream",
          "name": "stdout",
          "text": [
            "Looking in indexes: https://pypi.org/simple, https://us-python.pkg.dev/colab-wheels/public/simple/\n",
            "Collecting roboflow\n",
            "  Downloading roboflow-1.0.9-py3-none-any.whl (56 kB)\n",
            "\u001b[2K     \u001b[90m━━━━━━━━━━━━━━━━━━━━━━━━━━━━━━━━━━━━━━━━\u001b[0m \u001b[32m56.3/56.3 kB\u001b[0m \u001b[31m3.0 MB/s\u001b[0m eta \u001b[36m0:00:00\u001b[0m\n",
            "\u001b[?25hRequirement already satisfied: certifi==2022.12.7 in /usr/local/lib/python3.10/dist-packages (from roboflow) (2022.12.7)\n",
            "Requirement already satisfied: chardet==4.0.0 in /usr/local/lib/python3.10/dist-packages (from roboflow) (4.0.0)\n",
            "Collecting cycler==0.10.0 (from roboflow)\n",
            "  Downloading cycler-0.10.0-py2.py3-none-any.whl (6.5 kB)\n",
            "Collecting idna==2.10 (from roboflow)\n",
            "  Downloading idna-2.10-py2.py3-none-any.whl (58 kB)\n",
            "\u001b[2K     \u001b[90m━━━━━━━━━━━━━━━━━━━━━━━━━━━━━━━━━━━━━━━━\u001b[0m \u001b[32m58.8/58.8 kB\u001b[0m \u001b[31m9.5 MB/s\u001b[0m eta \u001b[36m0:00:00\u001b[0m\n",
            "\u001b[?25hRequirement already satisfied: kiwisolver>=1.3.1 in /usr/local/lib/python3.10/dist-packages (from roboflow) (1.4.4)\n",
            "Requirement already satisfied: matplotlib in /usr/local/lib/python3.10/dist-packages (from roboflow) (3.7.1)\n",
            "Requirement already satisfied: numpy>=1.18.5 in /usr/local/lib/python3.10/dist-packages (from roboflow) (1.22.4)\n",
            "Requirement already satisfied: opencv-python>=4.1.2 in /usr/local/lib/python3.10/dist-packages (from roboflow) (4.7.0.72)\n",
            "Requirement already satisfied: Pillow>=7.1.2 in /usr/local/lib/python3.10/dist-packages (from roboflow) (8.4.0)\n",
            "Collecting pyparsing==2.4.7 (from roboflow)\n",
            "  Downloading pyparsing-2.4.7-py2.py3-none-any.whl (67 kB)\n",
            "\u001b[2K     \u001b[90m━━━━━━━━━━━━━━━━━━━━━━━━━━━━━━━━━━━━━━━━\u001b[0m \u001b[32m67.8/67.8 kB\u001b[0m \u001b[31m9.9 MB/s\u001b[0m eta \u001b[36m0:00:00\u001b[0m\n",
            "\u001b[?25hRequirement already satisfied: python-dateutil in /usr/local/lib/python3.10/dist-packages (from roboflow) (2.8.2)\n",
            "Collecting python-dotenv (from roboflow)\n",
            "  Downloading python_dotenv-1.0.0-py3-none-any.whl (19 kB)\n",
            "Requirement already satisfied: requests in /usr/local/lib/python3.10/dist-packages (from roboflow) (2.27.1)\n",
            "Requirement already satisfied: six in /usr/local/lib/python3.10/dist-packages (from roboflow) (1.16.0)\n",
            "Requirement already satisfied: urllib3>=1.26.6 in /usr/local/lib/python3.10/dist-packages (from roboflow) (1.26.15)\n",
            "Collecting wget (from roboflow)\n",
            "  Downloading wget-3.2.zip (10 kB)\n",
            "  Preparing metadata (setup.py) ... \u001b[?25l\u001b[?25hdone\n",
            "Requirement already satisfied: tqdm>=4.41.0 in /usr/local/lib/python3.10/dist-packages (from roboflow) (4.65.0)\n",
            "Requirement already satisfied: PyYAML>=5.3.1 in /usr/local/lib/python3.10/dist-packages (from roboflow) (6.0)\n",
            "Collecting requests-toolbelt (from roboflow)\n",
            "  Downloading requests_toolbelt-1.0.0-py2.py3-none-any.whl (54 kB)\n",
            "\u001b[2K     \u001b[90m━━━━━━━━━━━━━━━━━━━━━━━━━━━━━━━━━━━━━━━━\u001b[0m \u001b[32m54.5/54.5 kB\u001b[0m \u001b[31m8.5 MB/s\u001b[0m eta \u001b[36m0:00:00\u001b[0m\n",
            "\u001b[?25hRequirement already satisfied: contourpy>=1.0.1 in /usr/local/lib/python3.10/dist-packages (from matplotlib->roboflow) (1.0.7)\n",
            "Requirement already satisfied: fonttools>=4.22.0 in /usr/local/lib/python3.10/dist-packages (from matplotlib->roboflow) (4.39.3)\n",
            "Requirement already satisfied: packaging>=20.0 in /usr/local/lib/python3.10/dist-packages (from matplotlib->roboflow) (23.1)\n",
            "Requirement already satisfied: charset-normalizer~=2.0.0 in /usr/local/lib/python3.10/dist-packages (from requests->roboflow) (2.0.12)\n",
            "Building wheels for collected packages: wget\n",
            "  Building wheel for wget (setup.py) ... \u001b[?25l\u001b[?25hdone\n",
            "  Created wheel for wget: filename=wget-3.2-py3-none-any.whl size=9657 sha256=262d36438db8c84bd532284e98abf0c1f4bf81d2f509000ad8a9bce991377fa5\n",
            "  Stored in directory: /root/.cache/pip/wheels/8b/f1/7f/5c94f0a7a505ca1c81cd1d9208ae2064675d97582078e6c769\n",
            "Successfully built wget\n",
            "Installing collected packages: wget, python-dotenv, pyparsing, idna, cycler, requests-toolbelt, roboflow\n",
            "  Attempting uninstall: pyparsing\n",
            "    Found existing installation: pyparsing 3.0.9\n",
            "    Uninstalling pyparsing-3.0.9:\n",
            "      Successfully uninstalled pyparsing-3.0.9\n",
            "  Attempting uninstall: idna\n",
            "    Found existing installation: idna 3.4\n",
            "    Uninstalling idna-3.4:\n",
            "      Successfully uninstalled idna-3.4\n",
            "  Attempting uninstall: cycler\n",
            "    Found existing installation: cycler 0.11.0\n",
            "    Uninstalling cycler-0.11.0:\n",
            "      Successfully uninstalled cycler-0.11.0\n",
            "Successfully installed cycler-0.10.0 idna-2.10 pyparsing-2.4.7 python-dotenv-1.0.0 requests-toolbelt-1.0.0 roboflow-1.0.9 wget-3.2\n"
          ]
        },
        {
          "output_type": "display_data",
          "data": {
            "application/vnd.colab-display-data+json": {
              "pip_warning": {
                "packages": [
                  "cycler",
                  "idna",
                  "pyparsing"
                ]
              }
            }
          },
          "metadata": {}
        },
        {
          "output_type": "stream",
          "name": "stdout",
          "text": [
            "/content/drive/MyDrive/Ninti\n",
            "loading Roboflow workspace...\n",
            "loading Roboflow project...\n",
            "Dependency ultralytics<=8.0.20 is required but found version=8.0.119, to fix: `pip install ultralytics<=8.0.20`\n",
            "Downloading Dataset Version Zip in Oussama-5 to yolov8: 100% [223732379 / 223732379] bytes\n"
          ]
        },
        {
          "output_type": "stream",
          "name": "stderr",
          "text": [
            "Extracting Dataset Version Zip to Oussama-5 in yolov8:: 100%|██████████| 5780/5780 [00:36<00:00, 158.05it/s]\n"
          ]
        }
      ]
    },
    {
      "cell_type": "code",
      "source": [
        "import zipfile\n",
        "\n",
        "local_zip = '/content/drive/MyDrive/Ninti/cellseg_model5-20230620T032421Z-001.zip'\n",
        "with zipfile.ZipFile(local_zip, 'r') as zip_ref:\n",
        "    zip_ref.extractall(\"/content/drive/MyDrive/Ninti/ultralytics/runs/segment/cellseg_model5\")"
      ],
      "metadata": {
        "id": "ZYiLzztBNReb"
      },
      "execution_count": null,
      "outputs": []
    },
    {
      "cell_type": "code",
      "source": [
        "# training the custom data\n",
        "%%time\n",
        "\n",
        "%cd /content/drive/MyDrive/Ninti/ultralytics/\n",
        "!yolo task=segment mode=train model=/content/drive/MyDrive/Ninti/ultralytics/runs/segment/cellseg_model5/weights/epoch15.pt conf=0.25 imgsz=640 batch=10 epochs=150 data=/content/drive/MyDrive/Ninti/Oussama-5/data.yaml name=cellseg_model5 save=true save_period=1 cache=ram device=0 optimizer=Adam resume=True\n",
        "\n"
      ],
      "metadata": {
        "colab": {
          "base_uri": "https://localhost:8080/"
        },
        "id": "0AnS1OLoKmJY",
        "outputId": "a6edc5e3-281e-4c27-c63b-32f4dd02bb30"
      },
      "execution_count": null,
      "outputs": [
        {
          "output_type": "stream",
          "name": "stdout",
          "text": [
            "/content/drive/MyDrive/Ninti/ultralytics\n",
            "Ultralytics YOLOv8.0.120 🚀 Python-3.10.12 torch-2.0.1+cu118 CUDA:0 (Tesla T4, 15102MiB)\n",
            "\u001b[34m\u001b[1myolo/engine/trainer: \u001b[0mtask=segment, mode=train, model=/content/drive/MyDrive/Ninti/ultralytics/runs/segment/cellseg_model5/weights/epoch15.pt, data=/content/drive/MyDrive/Ninti/Oussama-5/data.yaml, epochs=150, patience=50, batch=10, imgsz=640, save=True, save_period=3, cache=ram, device=0, workers=8, project=None, name=cellseg_model, exist_ok=False, pretrained=True, optimizer=Adam, verbose=True, seed=0, deterministic=True, single_cls=False, rect=False, cos_lr=False, close_mosaic=0, resume=False, amp=True, fraction=1.0, profile=False, overlap_mask=True, mask_ratio=4, dropout=0.0, val=True, split=val, save_json=False, save_hybrid=False, conf=0.25, iou=0.7, max_det=300, half=False, dnn=False, plots=True, source=None, show=False, save_txt=False, save_conf=False, save_crop=False, show_labels=True, show_conf=True, vid_stride=1, line_width=None, visualize=False, augment=False, agnostic_nms=False, classes=None, retina_masks=False, boxes=True, format=torchscript, keras=False, optimize=False, int8=False, dynamic=False, simplify=False, opset=None, workspace=4, nms=False, lr0=0.01, lrf=0.01, momentum=0.937, weight_decay=0.0005, warmup_epochs=3.0, warmup_momentum=0.8, warmup_bias_lr=0.1, box=7.5, cls=0.5, dfl=1.5, pose=12.0, kobj=1.0, label_smoothing=0.0, nbs=64, hsv_h=0.015, hsv_s=0.7, hsv_v=0.4, degrees=0.0, translate=0.1, scale=0.5, shear=0.0, perspective=0.0, flipud=0.0, fliplr=0.5, mosaic=1.0, mixup=0.0, copy_paste=0.0, cfg=None, v5loader=False, tracker=botsort.yaml, save_dir=/content/drive/MyDrive/Ninti/ultralytics/runs/segment/cellseg_model5\n",
            "\u001b[34m\u001b[1mTensorBoard: \u001b[0mStart with 'tensorboard --logdir /content/drive/MyDrive/Ninti/ultralytics/runs/segment/cellseg_model5', view at http://localhost:6006/\n",
            "\n",
            "                   from  n    params  module                                       arguments                     \n",
            "  0                  -1  1       928  ultralytics.nn.modules.conv.Conv             [3, 32, 3, 2]                 \n",
            "  1                  -1  1     18560  ultralytics.nn.modules.conv.Conv             [32, 64, 3, 2]                \n",
            "  2                  -1  1     29056  ultralytics.nn.modules.block.C2f             [64, 64, 1, True]             \n",
            "  3                  -1  1     73984  ultralytics.nn.modules.conv.Conv             [64, 128, 3, 2]               \n",
            "  4                  -1  2    197632  ultralytics.nn.modules.block.C2f             [128, 128, 2, True]           \n",
            "  5                  -1  1    295424  ultralytics.nn.modules.conv.Conv             [128, 256, 3, 2]              \n",
            "  6                  -1  2    788480  ultralytics.nn.modules.block.C2f             [256, 256, 2, True]           \n",
            "  7                  -1  1   1180672  ultralytics.nn.modules.conv.Conv             [256, 512, 3, 2]              \n",
            "  8                  -1  1   1838080  ultralytics.nn.modules.block.C2f             [512, 512, 1, True]           \n",
            "  9                  -1  1    656896  ultralytics.nn.modules.block.SPPF            [512, 512, 5]                 \n",
            " 10                  -1  1         0  torch.nn.modules.upsampling.Upsample         [None, 2, 'nearest']          \n",
            " 11             [-1, 6]  1         0  ultralytics.nn.modules.conv.Concat           [1]                           \n",
            " 12                  -1  1    591360  ultralytics.nn.modules.block.C2f             [768, 256, 1]                 \n",
            " 13                  -1  1         0  torch.nn.modules.upsampling.Upsample         [None, 2, 'nearest']          \n",
            " 14             [-1, 4]  1         0  ultralytics.nn.modules.conv.Concat           [1]                           \n",
            " 15                  -1  1    148224  ultralytics.nn.modules.block.C2f             [384, 128, 1]                 \n",
            " 16                  -1  1    147712  ultralytics.nn.modules.conv.Conv             [128, 128, 3, 2]              \n",
            " 17            [-1, 12]  1         0  ultralytics.nn.modules.conv.Concat           [1]                           \n",
            " 18                  -1  1    493056  ultralytics.nn.modules.block.C2f             [384, 256, 1]                 \n",
            " 19                  -1  1    590336  ultralytics.nn.modules.conv.Conv             [256, 256, 3, 2]              \n",
            " 20             [-1, 9]  1         0  ultralytics.nn.modules.conv.Concat           [1]                           \n",
            " 21                  -1  1   1969152  ultralytics.nn.modules.block.C2f             [768, 512, 1]                 \n",
            " 22        [15, 18, 21]  1   2774414  ultralytics.nn.modules.head.Segment          [10, 32, 128, [128, 256, 512]]\n",
            "YOLOv8s-seg summary: 261 layers, 11793966 parameters, 11793950 gradients\n",
            "\n",
            "Transferred 417/417 items from pretrained weights\n",
            "\u001b[34m\u001b[1mAMP: \u001b[0mrunning Automatic Mixed Precision (AMP) checks with YOLOv8n...\n",
            "\u001b[34m\u001b[1mAMP: \u001b[0mchecks passed ✅\n",
            "\u001b[34m\u001b[1mtrain: \u001b[0mScanning /content/drive/MyDrive/Ninti/Oussama-5/train/labels.cache... 2732 images, 0 backgrounds, 0 corrupt: 100% 2732/2732 [00:00<?, ?it/s]\n",
            "\u001b[34m\u001b[1mtrain: \u001b[0mCaching images (3.1GB ram): 100% 2732/2732 [04:57<00:00,  9.20it/s] \n",
            "\u001b[34m\u001b[1malbumentations: \u001b[0mBlur(p=0.01, blur_limit=(3, 7)), MedianBlur(p=0.01, blur_limit=(3, 7)), ToGray(p=0.01), CLAHE(p=0.01, clip_limit=(1, 4.0), tile_grid_size=(8, 8))\n",
            "\u001b[34m\u001b[1mval: \u001b[0mScanning /content/drive/MyDrive/Ninti/Oussama-5/valid/labels.cache... 81 images, 0 backgrounds, 0 corrupt: 100% 81/81 [00:00<?, ?it/s]\n",
            "\u001b[34m\u001b[1mval: \u001b[0mCaching images (0.1GB ram): 100% 81/81 [00:10<00:00,  7.64it/s]\n",
            "Plotting labels to /content/drive/MyDrive/Ninti/ultralytics/runs/segment/cellseg_model5/labels.jpg... \n",
            "\u001b[34m\u001b[1moptimizer:\u001b[0m Adam(lr=0.01, momentum=0.937) with parameter groups 66 weight(decay=0.0), 77 weight(decay=0.00046875), 76 bias(decay=0.0)\n",
            "Resuming training from /content/drive/MyDrive/Ninti/ultralytics/runs/segment/cellseg_model5/weights/epoch15.pt from epoch 17 to 150 total epochs\n",
            "Image sizes 640 train, 640 val\n",
            "Using 2 dataloader workers\n",
            "Logging results to \u001b[1m/content/drive/MyDrive/Ninti/ultralytics/runs/segment/cellseg_model5\u001b[0m\n",
            "Starting training for 150 epochs...\n",
            "\n",
            "      Epoch    GPU_mem   box_loss   seg_loss   cls_loss   dfl_loss  Instances       Size\n",
            "     17/150      7.47G      1.728      2.696      1.195      1.312        116        640: 100% 274/274 [10:16<00:00,  2.25s/it]\n",
            "                 Class     Images  Instances      Box(P          R      mAP50  mAP50-95)     Mask(P          R      mAP50  mAP50-95): 100% 5/5 [00:06<00:00,  1.37s/it]\n",
            "                   all         81       5035      0.467      0.341      0.389      0.323      0.466       0.34      0.388      0.306\n",
            "\n",
            "      Epoch    GPU_mem   box_loss   seg_loss   cls_loss   dfl_loss  Instances       Size\n",
            "     18/150      13.9G      1.719      2.697      1.191      1.309        464        640: 100% 274/274 [10:20<00:00,  2.26s/it]\n",
            "                 Class     Images  Instances      Box(P          R      mAP50  mAP50-95)     Mask(P          R      mAP50  mAP50-95): 100% 5/5 [00:05<00:00,  1.14s/it]\n",
            "                   all         81       5035      0.549      0.305      0.367      0.293      0.543      0.301      0.365      0.283\n",
            "\n",
            "      Epoch    GPU_mem   box_loss   seg_loss   cls_loss   dfl_loss  Instances       Size\n",
            "     19/150      12.6G      1.725      2.695      1.202      1.319        102        640: 100% 274/274 [10:12<00:00,  2.23s/it]\n",
            "                 Class     Images  Instances      Box(P          R      mAP50  mAP50-95)     Mask(P          R      mAP50  mAP50-95): 100% 5/5 [00:06<00:00,  1.26s/it]\n",
            "                   all         81       5035      0.525      0.399      0.466      0.361      0.524      0.398      0.465      0.358\n",
            "\n",
            "      Epoch    GPU_mem   box_loss   seg_loss   cls_loss   dfl_loss  Instances       Size\n",
            "     20/150      14.1G      1.735      2.715      1.204      1.317        208        640: 100% 274/274 [10:15<00:00,  2.24s/it]\n",
            "                 Class     Images  Instances      Box(P          R      mAP50  mAP50-95)     Mask(P          R      mAP50  mAP50-95): 100% 5/5 [00:07<00:00,  1.43s/it]\n",
            "                   all         81       5035      0.678      0.451      0.545      0.437      0.677      0.451      0.542      0.423\n",
            "\n",
            "      Epoch    GPU_mem   box_loss   seg_loss   cls_loss   dfl_loss  Instances       Size\n",
            "     21/150      8.02G      1.722      2.665      1.173      1.312         37        640: 100% 274/274 [10:13<00:00,  2.24s/it]\n",
            "                 Class     Images  Instances      Box(P          R      mAP50  mAP50-95)     Mask(P          R      mAP50  mAP50-95): 100% 5/5 [00:06<00:00,  1.25s/it]\n",
            "                   all         81       5035      0.475      0.479      0.485      0.357      0.478      0.484       0.49      0.347\n",
            "\n",
            "      Epoch    GPU_mem   box_loss   seg_loss   cls_loss   dfl_loss  Instances       Size\n",
            "     22/150      9.19G      1.736       2.67      1.187      1.304        397        640: 100% 274/274 [10:24<00:00,  2.28s/it]\n",
            "                 Class     Images  Instances      Box(P          R      mAP50  mAP50-95)     Mask(P          R      mAP50  mAP50-95): 100% 5/5 [00:05<00:00,  1.07s/it]\n",
            "                   all         81       5035      0.357      0.485      0.426      0.337      0.354      0.482      0.424      0.313\n",
            "\n",
            "      Epoch    GPU_mem   box_loss   seg_loss   cls_loss   dfl_loss  Instances       Size\n",
            "     23/150      15.2G      1.713      2.675      1.188      1.314        108        640: 100% 274/274 [09:50<00:00,  2.16s/it]\n",
            "                 Class     Images  Instances      Box(P          R      mAP50  mAP50-95)     Mask(P          R      mAP50  mAP50-95): 100% 5/5 [00:05<00:00,  1.06s/it]\n",
            "                   all         81       5035      0.484      0.419      0.469      0.358      0.482      0.417      0.467      0.361\n",
            "\n",
            "      Epoch    GPU_mem   box_loss   seg_loss   cls_loss   dfl_loss  Instances       Size\n",
            "     24/150        15G      1.697       2.67      1.178      1.307         34        640: 100% 274/274 [09:58<00:00,  2.18s/it]\n",
            "                 Class     Images  Instances      Box(P          R      mAP50  mAP50-95)     Mask(P          R      mAP50  mAP50-95): 100% 5/5 [00:06<00:00,  1.25s/it]\n",
            "                   all         81       5035      0.611      0.385      0.532      0.437      0.609      0.383       0.53      0.399\n",
            "\n",
            "      Epoch    GPU_mem   box_loss   seg_loss   cls_loss   dfl_loss  Instances       Size\n",
            "     25/150      9.13G       1.71      2.665      1.171      1.297        108        640: 100% 274/274 [10:00<00:00,  2.19s/it]\n",
            "                 Class     Images  Instances      Box(P          R      mAP50  mAP50-95)     Mask(P          R      mAP50  mAP50-95): 100% 5/5 [00:04<00:00,  1.01it/s]\n",
            "                   all         81       5035      0.533      0.483      0.525      0.423      0.531       0.48      0.522      0.398\n",
            "\n",
            "      Epoch    GPU_mem   box_loss   seg_loss   cls_loss   dfl_loss  Instances       Size\n",
            "     26/150      8.71G      1.692      2.652      1.175      1.314        183        640: 100% 274/274 [09:47<00:00,  2.14s/it]\n",
            "                 Class     Images  Instances      Box(P          R      mAP50  mAP50-95)     Mask(P          R      mAP50  mAP50-95): 100% 5/5 [00:05<00:00,  1.03s/it]\n",
            "                   all         81       5035      0.402      0.395      0.395      0.306      0.401      0.394      0.394      0.301\n",
            "\n",
            "      Epoch    GPU_mem   box_loss   seg_loss   cls_loss   dfl_loss  Instances       Size\n",
            "     27/150      13.1G      1.708      2.675      1.164      1.309         77        640: 100% 274/274 [09:46<00:00,  2.14s/it]\n",
            "                 Class     Images  Instances      Box(P          R      mAP50  mAP50-95)     Mask(P          R      mAP50  mAP50-95): 100% 5/5 [00:06<00:00,  1.31s/it]\n",
            "                   all         81       5035       0.43      0.505      0.433      0.325      0.423      0.493      0.418      0.332\n",
            "\n",
            "      Epoch    GPU_mem   box_loss   seg_loss   cls_loss   dfl_loss  Instances       Size\n",
            "     28/150      9.47G      1.699      2.635      1.167      1.302        285        640: 100% 274/274 [09:49<00:00,  2.15s/it]\n",
            "                 Class     Images  Instances      Box(P          R      mAP50  mAP50-95)     Mask(P          R      mAP50  mAP50-95): 100% 5/5 [00:06<00:00,  1.33s/it]\n",
            "                   all         81       5035      0.455      0.429      0.428      0.337       0.49      0.431      0.447      0.335\n",
            "\n",
            "      Epoch    GPU_mem   box_loss   seg_loss   cls_loss   dfl_loss  Instances       Size\n",
            "     29/150       7.3G      1.706      2.645      1.159        1.3         55        640: 100% 274/274 [09:56<00:00,  2.18s/it]\n",
            "                 Class     Images  Instances      Box(P          R      mAP50  mAP50-95)     Mask(P          R      mAP50  mAP50-95): 100% 5/5 [00:05<00:00,  1.04s/it]\n",
            "                   all         81       5035        0.5      0.494      0.505       0.38      0.501      0.497      0.505      0.386\n",
            "\n",
            "      Epoch    GPU_mem   box_loss   seg_loss   cls_loss   dfl_loss  Instances       Size\n",
            "     30/150      14.8G      1.705      2.644      1.163      1.301        380        640: 100% 274/274 [09:58<00:00,  2.18s/it]\n",
            "                 Class     Images  Instances      Box(P          R      mAP50  mAP50-95)     Mask(P          R      mAP50  mAP50-95): 100% 5/5 [00:05<00:00,  1.11s/it]\n",
            "                   all         81       5035      0.434      0.507      0.451      0.355      0.432      0.504      0.449      0.338\n",
            "\n",
            "      Epoch    GPU_mem   box_loss   seg_loss   cls_loss   dfl_loss  Instances       Size\n",
            "     31/150      11.1G      1.698      2.645       1.17       1.31        416        640:  36% 99/274 [03:29<04:03,  1.39s/it]"
          ]
        }
      ]
    },
    {
      "cell_type": "code",
      "source": [],
      "metadata": {
        "id": "EZAPhlWcKtU-"
      },
      "execution_count": null,
      "outputs": []
    }
  ]
}