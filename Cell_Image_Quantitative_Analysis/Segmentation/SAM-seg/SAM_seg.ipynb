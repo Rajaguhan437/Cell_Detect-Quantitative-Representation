{
  "nbformat": 4,
  "nbformat_minor": 0,
  "metadata": {
    "colab": {
      "provenance": [],
      "authorship_tag": "ABX9TyOiHcJmQF/bV7sJtLRXBXr7",
      "include_colab_link": true
    },
    "kernelspec": {
      "name": "python3",
      "display_name": "Python 3"
    },
    "language_info": {
      "name": "python"
    }
  },
  "cells": [
    {
      "cell_type": "markdown",
      "metadata": {
        "id": "view-in-github",
        "colab_type": "text"
      },
      "source": [
        "<a href=\"https://colab.research.google.com/github/Rajaguhan437/Cell_Detect-Quantitative-Representation/blob/main/SAM_seg.ipynb\" target=\"_parent\"><img src=\"https://colab.research.google.com/assets/colab-badge.svg\" alt=\"Open In Colab\"/></a>"
      ]
    },
    {
      "cell_type": "code",
      "execution_count": null,
      "metadata": {
        "id": "hnp-R0o14cXh"
      },
      "outputs": [],
      "source": [
        "%cd \"/content/drive/MyDrive/Ninti/\"\n",
        "\n",
        "!git clone https://github.com/facebookresearch/segment-anything.git\n",
        "!cd segment-anything; pip install -e ."
      ]
    },
    {
      "cell_type": "code",
      "source": [
        "!pip install git+https://github.com/facebookresearch/segment-anything.git"
      ],
      "metadata": {
        "id": "d7TchDzV4qcP"
      },
      "execution_count": null,
      "outputs": []
    },
    {
      "cell_type": "code",
      "source": [
        "from segment_anything import sam_model_registry,  SamAutomaticMaskGenerator, SamPredictor"
      ],
      "metadata": {
        "id": "tZOz5gLA4ryA"
      },
      "execution_count": null,
      "outputs": []
    },
    {
      "cell_type": "code",
      "source": [
        "if not os.path.exists(\"/content/drive/MyDrive/Ninti/segment-anything/sam_vit_h_4b8939.pth\"):\n",
        "  !wget https://dl.fbaipublicfiles.com/segment_anything/sam_vit_h_4b8939.pth -O /content/drive/MyDrive/Ninti/segment-anything/sam_vit_h_4b8939.pth"
      ],
      "metadata": {
        "id": "Plm9nP4h4l5X"
      },
      "execution_count": null,
      "outputs": []
    },
    {
      "cell_type": "code",
      "source": [
        "### initialize the SAM\n",
        "\n",
        "sam_chkpt = \"/content/drive/MyDrive/Ninti/segment-anything/sam_vit_h_4b8939.pth\"\n",
        "model_type = \"vit_h\"\n",
        "\n",
        "device = \"cuda\"\n",
        "\n",
        "sam = sam_model_registry[model_type](checkpoint=sam_chkpt)\n",
        "sam.to(device=device)"
      ],
      "metadata": {
        "id": "guChampJ4uJT"
      },
      "execution_count": null,
      "outputs": []
    },
    {
      "cell_type": "code",
      "source": [
        "mask_generator = SamAutomaticMaskGenerator(\n",
        "    model=sam,\n",
        "    points_per_side=32,\n",
        "    pred_iou_thresh=0.99, #a filtering threshold in [0,1], using the model's predicted mask quality\n",
        "    stability_score_thresh=0.92,\n",
        "    crop_n_layers=1,\n",
        "    crop_n_points_downscale_factor=2,\n",
        "    min_mask_region_area=100  #requires open-cv to run post-processsing\n",
        ")"
      ],
      "metadata": {
        "id": "xppSjLRu4vPt"
      },
      "execution_count": null,
      "outputs": []
    },
    {
      "cell_type": "code",
      "source": [
        "image = cv2.imread('/content/drive/MyDrive/Ninti/unzipped_dataset/images/image-1.png')\n",
        "image = cv2.cvtColor(image, cv2.COLOR_BGR2RGB)"
      ],
      "metadata": {
        "id": "4iSJXwgK41z1"
      },
      "execution_count": null,
      "outputs": []
    },
    {
      "cell_type": "code",
      "source": [
        "masks = mask_generator.generate(image)\n",
        "\n",
        "### Printing no. of masks and keys attached to each of them\n",
        "print(\"Number of masks generated:\", len(masks))\n",
        "print(masks[0].keys())"
      ],
      "metadata": {
        "id": "8TfToldD4y5_"
      },
      "execution_count": null,
      "outputs": []
    },
    {
      "cell_type": "code",
      "source": [
        "import pycocotools\n",
        "def show_anns(anns):\n",
        "    if len(anns) == 0:\n",
        "        return\n",
        "    sorted_anns = sorted(anns, key=(lambda x: x['area']), reverse=True)\n",
        "    ax = plt.gca()\n",
        "    ax.set_autoscale_on(False)\n",
        "\n",
        "    img = np.ones((sorted_anns[0]['segmentation'].shape[0], sorted_anns[0]['segmentation'].shape[1], 4))\n",
        "    img[:,:,3] = 0\n",
        "    mask_num = 1  # initialize mask number\n",
        "    for ann in sorted_anns:\n",
        "        m = ann['segmentation']\n",
        "        color_mask = np.concatenate([np.random.random(3), [0.35]])\n",
        "        img[m] = color_mask\n",
        "        # Get segmentation center and display mask number\n",
        "        y, x = np.where(m)\n",
        "        center = np.array([int(np.mean(x)), int(np.mean(y))])\n",
        "        ax.text(center[0], center[1], str(mask_num), color='white', fontsize=10, ha='center', va='center')\n",
        "        mask_num += 1  # increment mask number\n",
        "\n",
        "    ax.imshow(img)\n",
        "\n",
        "### Displaying the masks, witha number identfying each of them\n",
        "plt.figure(figsize=(5.12, 5.12))\n",
        "plt.imshow(image)\n",
        "show_anns(masks[:]) ## use masks[:-x] to only display the masks of the list\n",
        "plt.axis('off')\n",
        "\n",
        "### Saving this image\n",
        "plt.savefig('/content/drive/MyDrive/Ninti/segment_overlay.jpg', dpi=300, bbox_inches='tight')\n",
        "plt.show()"
      ],
      "metadata": {
        "id": "xER9Q1-M44yr"
      },
      "execution_count": null,
      "outputs": []
    }
  ]
}